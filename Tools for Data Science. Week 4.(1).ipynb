{
  "metadata": {
    "kernelspec": {
      "name": "python",
      "display_name": "Pyolite",
      "language": "python"
    },
    "language_info": {
      "codemirror_mode": {
        "name": "python",
        "version": 3
      },
      "file_extension": ".py",
      "mimetype": "text/x-python",
      "name": "python",
      "nbconvert_exporter": "python",
      "pygments_lexer": "ipython3",
      "version": "3.8"
    }
  },
  "nbformat_minor": 4,
  "nbformat": 4,
  "cells": [
    {
      "cell_type": "markdown",
      "source": "# My Jupyter Notebook on IBM Watson Studio",
      "metadata": {}
    },
    {
      "cell_type": "markdown",
      "source": "<b> Al Bagiro </b> \n\nConsultant ",
      "metadata": {}
    },
    {
      "cell_type": "markdown",
      "source": "_I'm interested in Data Science because it leads to understanding AI/ML and predictive analytics, which are very important in technology, ethics and business today._",
      "metadata": {}
    },
    {
      "cell_type": "markdown",
      "source": "### The cell 5 will calculate the tution fee for this course:",
      "metadata": {}
    },
    {
      "cell_type": "code",
      "source": "import math                #importing math for math.ceil() function (rounding up).\nMonthlyFee = 38            # monthly fee in USD\nCourseLength = 8          # course length according to Coursera in month\nMyPace = 3                 # the coefficient which show how much times faster you can pass the course\nTotalFee = math.ceil(CourseLength/MyPace)*MonthlyFee # counting the fee\nprint('For the Data Science course you will pay in total','$',TotalFee) # output the values.",
      "metadata": {
        "scrolled": true,
        "trusted": true
      },
      "execution_count": 6,
      "outputs": [
        {
          "name": "stdout",
          "text": "For the Data Science course you will pay in total $ 114\n",
          "output_type": "stream"
        }
      ]
    },
    {
      "cell_type": "markdown",
      "source": "Because this is good info.\n\n***\nTo see how much will you pay, run this code:\n```python\nimport math                #importing math for math.ceil() function (rounding up).\nMonthlyFee = 38            # monthly fee in USD\nCourseLength = 8          # course length according to Coursera in month\nMyPace = 3                 # the coefficient which show how much times faster you can pass the course\nTotalFee = math.ceil(CourseLength/MyPace)*MonthlyFee # counting the fee\nprint('For the Data Science course you will pay in total','$',TotalFee) # output the values.\n\n```\n\n* You too can try\n   \n   `certificate within your reach`\n   \n   \n* Here is the link to course: [IBM Data Science Professional Certificate](https://www.coursera.org/professional-certificates/ibm-data-science \"Enroll\")\n  \n# \n![alt text][logo]\n\n[logo]: https://images.prismic.io/coresignal-website/fee58849-3ea1-4686-b937-eb3a478f2827_Data%20Science%20Quote%20by%20Matthew%20Emerick.jpg?ixlib=gatsbyFP&auto=compress%2Cformat&fit=max&q=75&w=1247&h=677 \"Good quote, can't agree more\"\n   \n   >“\"In God we trust; all others must bring data.\" — William Edwards Deming”\n\n~~For every two degrees the temperature goes up, check-ins at ice cream shops go up by 2%.~~\n",
      "metadata": {}
    },
    {
      "cell_type": "code",
      "source": "",
      "metadata": {},
      "execution_count": null,
      "outputs": []
    }
  ]
}